{
 "cells": [
  {
   "cell_type": "code",
   "execution_count": null,
   "metadata": {},
   "outputs": [],
   "source": [
    "%load"
   ]
  },
  {
   "cell_type": "code",
   "execution_count": null,
   "metadata": {},
   "outputs": [],
   "source": [
    "%%oc\n",
    "\n",
    "MATCH (n)\n",
    "RETURN count(n) AS total_nodes"
   ]
  },
  {
   "cell_type": "code",
   "execution_count": null,
   "metadata": {},
   "outputs": [],
   "source": [
    "%%oc\n",
    "\n",
    "MATCH ()-[r]->()\n",
    "RETURN count(r) AS total_relationships"
   ]
  },
  {
   "cell_type": "code",
   "execution_count": null,
   "metadata": {},
   "outputs": [],
   "source": [
    "%%oc\n",
    "\n",
    "MATCH (n)\n",
    "WITH n, RAND() AS rand\n",
    "ORDER BY rand\n",
    "LIMIT 1000\n",
    "WITH COLLECT(ID(n)) AS nodeIds\n",
    "UNWIND nodeIds AS nodeId\n",
    "MATCH (m)-[r]->()\n",
    "WHERE ID(m) = nodeId\n",
    "RETURN nodeId, count(r) AS secondhopRelationshipCount"
   ]
  },
  {
   "cell_type": "code",
   "execution_count": null,
   "metadata": {},
   "outputs": [],
   "source": [
    "%%oc\n",
    "\n",
    "MATCH (n1),(n2)\n",
    "MATCH p = (n1)-[:hasSubgenre]-(n2)\n",
    "RETURN p"
   ]
  },
  {
   "cell_type": "code",
   "execution_count": null,
   "metadata": {},
   "outputs": [],
   "source": [
    "import awswrangler as wr\n",
    "import networkx as nx\n",
    "import time\n",
    "\n",
    "start_time = time.time()\n",
    "\n",
    "url='database-3-instance-1.cvgtv8hzqoyb.us-east-1.neptune.amazonaws.com'\n",
    "iam_enabled = False\n",
    "neptune_port = 8182 \n",
    "client = wr.neptune.connect(url, neptune_port, iam_enabled=iam_enabled)\n",
    "\n",
    "client = wr.neptune.connect(url, 8182, iam_enabled=False)\n",
    "query = \"MATCH (n)-[r]->(d) RETURN id(n) as source, id(d) as target LIMIT 500\"\n",
    "df = wr.neptune.execute_opencypher(client, query)\n",
    "\n",
    "# Run PageRank\n",
    "G=nx.from_pandas_edgelist(df, edge_attr=True)\n",
    "pg = nx.pagerank(G)\n",
    "\n",
    "end_time = time.time()\n",
    "elapsed_time = end_time - start_time\n",
    "print(\"Elapsed time: {:.3f} seconds\".format(elapsed_time))\n"
   ]
  },
  {
   "cell_type": "code",
   "execution_count": null,
   "metadata": {},
   "outputs": [],
   "source": [
    "start_time = time.time()\n",
    "\n",
    "url='database-3-instance-1.cvgtv8hzqoyb.us-east-1.neptune.amazonaws.com'\n",
    "iam_enabled = False\n",
    "neptune_port = 8182 \n",
    "client = wr.neptune.connect(url, neptune_port, iam_enabled=iam_enabled)\n",
    "\n",
    "client = wr.neptune.connect(url, 8182, iam_enabled=False)\n",
    "query = \"MATCH (n)-[r]->(d) RETURN id(n) as source, id(d) as target LIMIT 500\"\n",
    "df = wr.neptune.execute_opencypher(client, query)\n",
    "\n",
    "# Run PageRank\n",
    "G=nx.from_pandas_edgelist(df, edge_attr=True)\n",
    "bc = nx.betweenness_centrality(G)\n",
    "for node in bc:\n",
    "    print(\"Node {}: Betweenness centrality = {}\".format(node, bc[node]))\n",
    "\n",
    "end_time = time.time()\n",
    "elapsed_time = end_time - start_time\n",
    "print(\"Elapsed time: {:.3f} seconds\".format(elapsed_time))"
   ]
  },
  {
   "cell_type": "code",
   "execution_count": null,
   "metadata": {},
   "outputs": [],
   "source": [
    "%%oc\n",
    "\n",
    "UNWIND range(1, 100) as i\n",
    "CREATE (:album {title: 'Arandomname ' + toString(rand()), year: 2020 + toInteger(rand()*10)})"
   ]
  }
 ],
 "metadata": {
  "language_info": {
   "name": "python"
  },
  "orig_nbformat": 4
 },
 "nbformat": 4,
 "nbformat_minor": 2
}
